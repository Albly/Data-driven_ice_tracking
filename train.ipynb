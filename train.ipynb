{
 "cells": [
  {
   "cell_type": "code",
   "execution_count": 1,
   "metadata": {},
   "outputs": [],
   "source": [
    "%load_ext autoreload\n",
    "%autoreload 2\n",
    "\n",
    "import torch\n",
    "from timeit import default_timer\n",
    "device = torch.device(\"cuda\")\n",
    "import torch.nn as nn\n",
    "import numpy as np\n",
    "import imageio\n",
    "import matplotlib.pyplot as plt\n",
    "from src.preprocessing import get_clear_data_idxs, min_max_scaller, load_mask"
   ]
  },
  {
   "cell_type": "code",
   "execution_count": 2,
   "metadata": {},
   "outputs": [
    {
     "name": "stdout",
     "output_type": "stream",
     "text": [
      "radar data :  (791, 825, 200)\n",
      "glorys data : (791, 3, 825, 200)\n",
      "gfs data : (791, 3, 825, 200)\n"
     ]
    }
   ],
   "source": [
    "data_path = \"./data/\"\n",
    "radar_data = np.load(f'{data_path}/radars_2020-11-01_2022-12-31.npy')\n",
    "glorys     = np.load(f'{data_path}/glorys_2020-11-01_2022-12-31.npy')\n",
    "gfs = np.load(f'{data_path}/gfs_2020-11-01_2022-12-31.npy')\n",
    "mask = load_mask(data_path+'mask.png')\n",
    "\n",
    "\n",
    "print('radar data : ', radar_data.shape)\n",
    "print('glorys data :', glorys.shape)\n",
    "print('gfs data :', gfs.shape)"
   ]
  },
  {
   "cell_type": "code",
   "execution_count": 3,
   "metadata": {},
   "outputs": [],
   "source": [
    "idxs = get_clear_data_idxs(radar_data, zero_th_percent = 80, mask = mask)\n",
    "pairs = []\n",
    "i = 0\n",
    "while i < (len(idxs[0]) - 1):\n",
    "    if (idxs[0][i] - idxs[0][i + 1]) == -1:\n",
    "        pairs.append([idxs[0][i], idxs[0][i+1]])\n",
    "        i += 2\n",
    "    else:\n",
    "        i += 1"
   ]
  },
  {
   "cell_type": "code",
   "execution_count": 4,
   "metadata": {},
   "outputs": [],
   "source": [
    "train_pairs = np.array(pairs[:int(166 * 0.7)])\n",
    "valid_pairs = np.array(pairs[int(166 * 0.7):int(166 * 0.9)])\n",
    "test_pairs = np.array(pairs[int(166 * 0.9):])"
   ]
  },
  {
   "cell_type": "code",
   "execution_count": 5,
   "metadata": {},
   "outputs": [],
   "source": [
    "batch_size = 50\n",
    "train_loader = torch.utils.data.DataLoader(torch.utils.data.TensorDataset(torch.Tensor(radar_data[train_pairs[:, 0]]), \n",
    "                                                                          torch.Tensor(radar_data[train_pairs[:, 1]])), \n",
    "                                                                           batch_size=batch_size, shuffle=True, \n",
    "                                                                           pin_memory=True)\n",
    "\n",
    "\n",
    "valid_loader = torch.utils.data.DataLoader(torch.utils.data.TensorDataset(torch.Tensor(radar_data[valid_pairs[:, 0]]), \n",
    "                                                                          torch.Tensor(radar_data[valid_pairs[:, 1]])), \n",
    "                                                                          batch_size=batch_size, shuffle=False, \n",
    "                                                                          pin_memory=True)\n",
    "\n",
    "\n",
    "test_loader = torch.utils.data.DataLoader(torch.utils.data.TensorDataset(torch.Tensor(radar_data[test_pairs[:, 0]]), \n",
    "                                                                         torch.Tensor(radar_data[test_pairs[:, 1]])), \n",
    "                                                                         batch_size=batch_size, shuffle=False, \n",
    "                                                                         pin_memory=True)\n"
   ]
  },
  {
   "cell_type": "code",
   "execution_count": 6,
   "metadata": {},
   "outputs": [
    {
     "name": "stdout",
     "output_type": "stream",
     "text": [
      "torch.Size([50, 825, 200])\n"
     ]
    }
   ],
   "source": [
    "for x_train, y_train in train_loader:\n",
    "    print(x_train.shape)\n",
    "    break"
   ]
  },
  {
   "cell_type": "code",
   "execution_count": 7,
   "metadata": {},
   "outputs": [],
   "source": [
    "from radars.UNet import UNet\n",
    "\n",
    "model = UNet(1, 1, False, 3)\n",
    "optimizer = torch.optim.Adam(model.parameters(), lr = 1e-3)\n"
   ]
  },
  {
   "cell_type": "code",
   "execution_count": 10,
   "metadata": {},
   "outputs": [],
   "source": [
    "def train(device, model, optimizer, trainloader, epochs=20, evalloader=False, name_experiment='model_test'):\n",
    "    train_loss_list = []\n",
    "    valid_loss_list = []\n",
    "    grad_list = []\n",
    "    \n",
    "    for ep in range(epochs):\n",
    "        percent_epoch  = ep/epochs\n",
    "        model.train()\n",
    "        t_1 = default_timer()\n",
    "        train_pred_full = 0\n",
    "        total_grad = 0\n",
    "        for x_train, y_train in trainloader:\n",
    "            x_train = x_train.unsqueeze(1)\n",
    "            y_train = y_train.unsqueeze(1)\n",
    "            \n",
    "            l_recons = 0\n",
    "            x_train = x_train.to(device)\n",
    "            y_train = y_train.to(device)\n",
    "            \n",
    "            bs = x_train.shape[0]\n",
    "            pred = model(x_train)\n",
    "            loss = model.loss(pred.reshape(bs, -1), y_train.reshape(bs, -1))\n",
    "\n",
    "            train_pred_full += loss.item()\n",
    "\n",
    "            optimizer.zero_grad()\n",
    "            loss.backward()\n",
    "            grad_by_batch  =  0\n",
    "            for tag, value in model.named_parameters():\n",
    "                if value.grad is not None:\n",
    "                    grad =  value.grad.norm()\n",
    "                    total_grad += grad \n",
    "                    grad_by_batch += grad\n",
    "\n",
    "            optimizer.step()\n",
    "            \n",
    "        grad_list.append(total_grad.cpu().item())\n",
    "\n",
    "        train_pred_full = train_pred_full / len(trainloader)\n",
    "\n",
    "        train_loss_list.append(train_pred_full)\n",
    "\n",
    "        t2 = default_timer()\n",
    "        valid_pred_full = 0\n",
    "\n",
    "        if evalloader:\n",
    "            model.eval()\n",
    "            with torch.no_grad():\n",
    "                for x_valid, y_valid in evalloader:\n",
    "                    loss = 0\n",
    "                    x_valid = x_valid.to(device)\n",
    "                    y_valid = y_valid.to(device)\n",
    "                    bs = x_valid.shape[0]\n",
    "                    \n",
    "                    pred = model(x_valid)\n",
    "\n",
    "                    l_pred = model.loss(pred.reshape(bs, -1), y_valid.reshape(bs, -1))\n",
    "\n",
    "                    valid_pred_full += l_pred.item()\n",
    "\n",
    "            valid_pred_full = valid_pred_full / len(evalloader)\n",
    "\n",
    "            valid_loss_list.append(valid_pred_full)\n",
    "\n",
    "        #scheduler.step(loss)\n",
    "        # scheduler.step()\n",
    "\n",
    "        if evalloader:\n",
    "            if ep == 0:\n",
    "                print(\"Epoch\", \"Time\", \"[Train Pred MSE]\", \"[Eval Pred MSE], [total grad], [grad_by_batch]\")\n",
    "            if ep % 50 == 0:\n",
    "                print(ep, t2 - t_1, train_pred_full, valid_pred_full, total_grad, grad_by_batch)\n",
    "\n",
    "\n",
    "        if ep % 99 == 0:\n",
    "            torch.save(model.state_dict(), f\"best_models_weights/{name_experiment}_{ep}.pth\")\n",
    "            \n",
    "    return train_loss_list, valid_loss_list, grad_list"
   ]
  },
  {
   "cell_type": "code",
   "execution_count": 11,
   "metadata": {},
   "outputs": [
    {
     "ename": "",
     "evalue": "",
     "output_type": "error",
     "traceback": [
      "\u001b[1;31mCannot execute code, session has been disposed. Please try restarting the Kernel."
     ]
    },
    {
     "ename": "",
     "evalue": "",
     "output_type": "error",
     "traceback": [
      "\u001b[1;31mThe Kernel crashed while executing code in the the current cell or a previous cell. Please review the code in the cell(s) to identify a possible cause of the failure. Click <a href='https://aka.ms/vscodeJupyterKernelCrash'>here</a> for more info. View Jupyter <a href='command:jupyter.viewOutput'>log</a> for further details."
     ]
    }
   ],
   "source": [
    "train_loss_list, valid_loss_list, grad_list = train(device, model, optimizer, \n",
    "                                         train_loader, epochs=1400, \n",
    "                                         evalloader=valid_loader)\n",
    "\n"
   ]
  },
  {
   "cell_type": "code",
   "execution_count": null,
   "metadata": {},
   "outputs": [],
   "source": []
  }
 ],
 "metadata": {
  "kernelspec": {
   "display_name": "base",
   "language": "python",
   "name": "python3"
  },
  "language_info": {
   "codemirror_mode": {
    "name": "ipython",
    "version": 3
   },
   "file_extension": ".py",
   "mimetype": "text/x-python",
   "name": "python",
   "nbconvert_exporter": "python",
   "pygments_lexer": "ipython3",
   "version": "3.10.4"
  },
  "orig_nbformat": 4
 },
 "nbformat": 4,
 "nbformat_minor": 2
}
